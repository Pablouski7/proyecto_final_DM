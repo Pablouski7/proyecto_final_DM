{
 "cells": [
  {
   "cell_type": "code",
   "execution_count": 73,
   "id": "c96b63f3",
   "metadata": {},
   "outputs": [],
   "source": [
    "# ----------------------------------------------\n",
    "# 03_Model_LTV_180.ipynb\n",
    "# Entrenamiento con split temporal para LTV_180\n",
    "# ----------------------------------------------\n",
    "\n",
    "# Inicialización\n",
    "import os\n",
    "import sys\n",
    "import pandas as pd\n",
    "\n",
    "# Añadir src al path para importar los scripts\n",
    "sys.path.append(os.path.abspath(os.path.join(os.getcwd(), '..', 'src')))\n",
    "\n",
    "#  Imports del script\n",
    "from train import (\n",
    "    build_preprocessor,\n",
    "    train_models,\n",
    "    train_stacking_model,\n",
    "    save_models\n",
    ")\n",
    "\n",
    "#  Cargar datos y aplicar split temporal\n",
    "df = pd.read_csv(\"../data/processed/final_dataset.csv\", parse_dates=[\"first_session\"])\n",
    "df = df[df[\"first_session\"] < \"2018-07-01\"]\n",
    "df = df[~df[\"LTV_180\"].isna()]\n",
    "\n",
    "# Split temporal\n",
    "train_df = df[df[\"first_session\"] < \"2018-01-01\"]\n",
    "test_df  = df[(df[\"first_session\"] >= \"2018-01-01\") & (df[\"first_session\"] < \"2018-07-01\")]\n",
    "\n",
    "# Preparar features y target\n",
    "target = \"LTV_180\"\n",
    "drop_cols = ['uid', 'first_session', 'last_session', 'first_order', 'last_order',\n",
    "             'LTV_180', 'CAC_source_30', 'ltv_cohort_avg', 'cac_cohort_avg', 'conversion_rate_cohort']\n",
    "\n",
    "X_train = train_df.drop(columns=drop_cols, errors='ignore')\n",
    "y_train = train_df[target]\n",
    "\n",
    "X_test = test_df.drop(columns=drop_cols, errors='ignore')\n",
    "y_test = test_df[target]\n",
    "\n",
    "#  Preprocesamiento\n",
    "preprocessor = build_preprocessor(X_train)\n",
    "\n"
   ]
  },
  {
   "cell_type": "code",
   "execution_count": 74,
   "id": "9c2251e2",
   "metadata": {},
   "outputs": [
    {
     "name": "stdout",
     "output_type": "stream",
     "text": [
      "Entrenando modelos...\n",
      "[LightGBM] [Info] Auto-choosing row-wise multi-threading, the overhead of testing was 0.001387 seconds.\n",
      "You can set `force_row_wise=true` to remove the overhead.\n",
      "And if memory is not enough, you can set `force_col_wise=true`.\n",
      "[LightGBM] [Info] Total Bins 2299\n",
      "[LightGBM] [Info] Number of data points in the train set: 22294, number of used features: 26\n",
      "[LightGBM] [Info] Start training from score 7.413806\n",
      "Entrenando modelo stacking...\n",
      "[LightGBM] [Info] Auto-choosing row-wise multi-threading, the overhead of testing was 0.001529 seconds.\n",
      "You can set `force_row_wise=true` to remove the overhead.\n",
      "And if memory is not enough, you can set `force_col_wise=true`.\n",
      "[LightGBM] [Info] Total Bins 2299\n",
      "[LightGBM] [Info] Number of data points in the train set: 22294, number of used features: 26\n",
      "[LightGBM] [Info] Start training from score 7.413806\n",
      "[LightGBM] [Info] Auto-choosing row-wise multi-threading, the overhead of testing was 0.002337 seconds.\n",
      "You can set `force_row_wise=true` to remove the overhead.\n",
      "And if memory is not enough, you can set `force_col_wise=true`.\n",
      "[LightGBM] [Info] Total Bins 2280\n",
      "[LightGBM] [Info] Number of data points in the train set: 17835, number of used features: 26\n",
      "[LightGBM] [Info] Start training from score 7.579161\n",
      "[LightGBM] [Info] Auto-choosing row-wise multi-threading, the overhead of testing was 0.001237 seconds.\n",
      "You can set `force_row_wise=true` to remove the overhead.\n",
      "And if memory is not enough, you can set `force_col_wise=true`.\n",
      "[LightGBM] [Info] Total Bins 2276\n",
      "[LightGBM] [Info] Number of data points in the train set: 17835, number of used features: 26\n",
      "[LightGBM] [Info] Start training from score 6.906667\n",
      "[LightGBM] [Info] Auto-choosing row-wise multi-threading, the overhead of testing was 0.001213 seconds.\n",
      "You can set `force_row_wise=true` to remove the overhead.\n",
      "And if memory is not enough, you can set `force_col_wise=true`.\n",
      "[LightGBM] [Info] Total Bins 2285\n",
      "[LightGBM] [Info] Number of data points in the train set: 17835, number of used features: 26\n",
      "[LightGBM] [Info] Start training from score 7.715320\n",
      "[LightGBM] [Info] Auto-choosing row-wise multi-threading, the overhead of testing was 0.001190 seconds.\n",
      "You can set `force_row_wise=true` to remove the overhead.\n",
      "And if memory is not enough, you can set `force_col_wise=true`.\n",
      "[LightGBM] [Info] Total Bins 2281\n",
      "[LightGBM] [Info] Number of data points in the train set: 17835, number of used features: 26\n",
      "[LightGBM] [Info] Start training from score 7.115687\n",
      "[LightGBM] [Info] Auto-choosing row-wise multi-threading, the overhead of testing was 0.001110 seconds.\n",
      "You can set `force_row_wise=true` to remove the overhead.\n",
      "And if memory is not enough, you can set `force_col_wise=true`.\n",
      "[LightGBM] [Info] Total Bins 2283\n",
      "[LightGBM] [Info] Number of data points in the train set: 17836, number of used features: 26\n",
      "[LightGBM] [Info] Start training from score 7.752178\n"
     ]
    }
   ],
   "source": [
    "# Entrenar modelos base y avanzados\n",
    "print(\"Entrenando modelos...\")\n",
    "modelos = train_models(X_train, y_train, preprocessor)\n",
    "\n",
    "# Ensamblador\n",
    "print(\"Entrenando modelo stacking...\")\n",
    "stacked_model = train_stacking_model(X_train, y_train, preprocessor, modelos)\n",
    "modelos[\"stacking\"] = stacked_model\n"
   ]
  },
  {
   "cell_type": "code",
   "execution_count": 75,
   "id": "7ec326cc",
   "metadata": {},
   "outputs": [
    {
     "name": "stdout",
     "output_type": "stream",
     "text": [
      "Guardando modelos...\n",
      "Modelos guardados exitosamente en ../models/\n",
      " Entrenamiento y test set listo para evaluación.\n"
     ]
    }
   ],
   "source": [
    "#  Guardar\n",
    "print(\"Guardando modelos...\")\n",
    "save_models(modelos, target_name=\"LTV_180\", save_path=\"../models/\")\n",
    "\n",
    "print(\" Entrenamiento y test set listo para evaluación.\")"
   ]
  }
 ],
 "metadata": {
  "kernelspec": {
   "display_name": "Python 3",
   "language": "python",
   "name": "python3"
  },
  "language_info": {
   "codemirror_mode": {
    "name": "ipython",
    "version": 3
   },
   "file_extension": ".py",
   "mimetype": "text/x-python",
   "name": "python",
   "nbconvert_exporter": "python",
   "pygments_lexer": "ipython3",
   "version": "3.11.5"
  }
 },
 "nbformat": 4,
 "nbformat_minor": 5
}
