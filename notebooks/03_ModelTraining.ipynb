{
 "cells": [
  {
   "cell_type": "markdown",
   "id": "1fc0f68e",
   "metadata": {},
   "source": [
    "## Entrenamiento con split temporal para CAC_source_30"
   ]
  },
  {
   "cell_type": "code",
   "execution_count": 15,
   "id": "baf03f05",
   "metadata": {},
   "outputs": [
    {
     "name": "stdout",
     "output_type": "stream",
     "text": [
      "Cargando y preparando datos para CAC_source_30...\n"
     ]
    }
   ],
   "source": [
    "#  Inicialización\n",
    "import os\n",
    "import sys\n",
    "import pandas as pd\n",
    "\n",
    "# Añadir src al path para importar los scripts\n",
    "sys.path.append(os.path.abspath(os.path.join(os.getcwd(), '..', 'src')))\n",
    "\n",
    "#  Imports del script\n",
    "from train import (\n",
    "    load_and_prepare_data,\n",
    "    build_preprocessor,\n",
    "    train_models,\n",
    "    train_stacking_model,\n",
    "    save_models\n",
    ")\n",
    "\n",
    "#  Cargar y preparar datos\n",
    "print(\"Cargando y preparando datos para CAC_source_30...\")\n",
    "X_train, y_train, X_val_cac, y_val_cac, _, _ = load_and_prepare_data(\n",
    "    path=\"../data/processed/final_dataset.csv\",\n",
    "    target=\"CAC_source_30\",\n",
    "    date_column=\"first_session\"\n",
    ")\n",
    "\n",
    "#  Preprocesamiento automático\n",
    "preprocessor = build_preprocessor(X_train)"
   ]
  },
  {
   "cell_type": "code",
   "execution_count": 5,
   "id": "d98dd9bb",
   "metadata": {},
   "outputs": [
    {
     "name": "stdout",
     "output_type": "stream",
     "text": [
      "Entrenando modelos base y avanzados...\n",
      "[LightGBM] [Info] Auto-choosing row-wise multi-threading, the overhead of testing was 0.012558 seconds.\n",
      "You can set `force_row_wise=true` to remove the overhead.\n",
      "And if memory is not enough, you can set `force_col_wise=true`.\n",
      "[LightGBM] [Info] Total Bins 2377\n",
      "[LightGBM] [Info] Number of data points in the train set: 23174, number of used features: 26\n",
      "[LightGBM] [Info] Start training from score 6296.056221\n"
     ]
    }
   ],
   "source": [
    "#  Entrenar modelos individuales\n",
    "print(\"Entrenando modelos base y avanzados...\")\n",
    "modelos = train_models(X_train, y_train, preprocessor)"
   ]
  },
  {
   "cell_type": "code",
   "execution_count": 6,
   "id": "027969af",
   "metadata": {},
   "outputs": [
    {
     "name": "stdout",
     "output_type": "stream",
     "text": [
      "Entrenando modelo ensamblado (stacking)...\n",
      "[LightGBM] [Info] Auto-choosing row-wise multi-threading, the overhead of testing was 0.003069 seconds.\n",
      "You can set `force_row_wise=true` to remove the overhead.\n",
      "And if memory is not enough, you can set `force_col_wise=true`.\n",
      "[LightGBM] [Info] Total Bins 2377\n",
      "[LightGBM] [Info] Number of data points in the train set: 23174, number of used features: 26\n",
      "[LightGBM] [Info] Start training from score 6296.056221\n",
      "[LightGBM] [Info] Auto-choosing row-wise multi-threading, the overhead of testing was 0.003649 seconds.\n",
      "You can set `force_row_wise=true` to remove the overhead.\n",
      "And if memory is not enough, you can set `force_col_wise=true`.\n",
      "[LightGBM] [Info] Total Bins 2358\n",
      "[LightGBM] [Info] Number of data points in the train set: 18539, number of used features: 26\n",
      "[LightGBM] [Info] Start training from score 6282.456550\n"
     ]
    },
    {
     "name": "stderr",
     "output_type": "stream",
     "text": [
      "/home/pablo-herrera/Documents/USFQ/8vo/DataMining/Proyecto_final/env/lib/python3.12/site-packages/sklearn/utils/validation.py:2739: UserWarning: X does not have valid feature names, but LGBMRegressor was fitted with feature names\n",
      "  warnings.warn(\n"
     ]
    },
    {
     "name": "stdout",
     "output_type": "stream",
     "text": [
      "[LightGBM] [Info] Auto-choosing row-wise multi-threading, the overhead of testing was 0.002682 seconds.\n",
      "You can set `force_row_wise=true` to remove the overhead.\n",
      "And if memory is not enough, you can set `force_col_wise=true`.\n",
      "[LightGBM] [Info] Total Bins 2353\n",
      "[LightGBM] [Info] Number of data points in the train set: 18539, number of used features: 26\n",
      "[LightGBM] [Info] Start training from score 6315.656794\n"
     ]
    },
    {
     "name": "stderr",
     "output_type": "stream",
     "text": [
      "/home/pablo-herrera/Documents/USFQ/8vo/DataMining/Proyecto_final/env/lib/python3.12/site-packages/sklearn/utils/validation.py:2739: UserWarning: X does not have valid feature names, but LGBMRegressor was fitted with feature names\n",
      "  warnings.warn(\n"
     ]
    },
    {
     "name": "stdout",
     "output_type": "stream",
     "text": [
      "[LightGBM] [Info] Auto-choosing col-wise multi-threading, the overhead of testing was 0.008954 seconds.\n",
      "You can set `force_col_wise=true` to remove the overhead.\n",
      "[LightGBM] [Info] Total Bins 2362\n",
      "[LightGBM] [Info] Number of data points in the train set: 18539, number of used features: 26\n",
      "[LightGBM] [Info] Start training from score 6292.274192\n"
     ]
    },
    {
     "name": "stderr",
     "output_type": "stream",
     "text": [
      "/home/pablo-herrera/Documents/USFQ/8vo/DataMining/Proyecto_final/env/lib/python3.12/site-packages/sklearn/utils/validation.py:2739: UserWarning: X does not have valid feature names, but LGBMRegressor was fitted with feature names\n",
      "  warnings.warn(\n"
     ]
    },
    {
     "name": "stdout",
     "output_type": "stream",
     "text": [
      "[LightGBM] [Info] Auto-choosing row-wise multi-threading, the overhead of testing was 0.002486 seconds.\n",
      "You can set `force_row_wise=true` to remove the overhead.\n",
      "And if memory is not enough, you can set `force_col_wise=true`.\n",
      "[LightGBM] [Info] Total Bins 2359\n",
      "[LightGBM] [Info] Number of data points in the train set: 18539, number of used features: 26\n",
      "[LightGBM] [Info] Start training from score 6298.552624\n"
     ]
    },
    {
     "name": "stderr",
     "output_type": "stream",
     "text": [
      "/home/pablo-herrera/Documents/USFQ/8vo/DataMining/Proyecto_final/env/lib/python3.12/site-packages/sklearn/utils/validation.py:2739: UserWarning: X does not have valid feature names, but LGBMRegressor was fitted with feature names\n",
      "  warnings.warn(\n"
     ]
    },
    {
     "name": "stdout",
     "output_type": "stream",
     "text": [
      "[LightGBM] [Info] Auto-choosing col-wise multi-threading, the overhead of testing was 0.009313 seconds.\n",
      "You can set `force_col_wise=true` to remove the overhead.\n",
      "[LightGBM] [Info] Total Bins 2361\n",
      "[LightGBM] [Info] Number of data points in the train set: 18540, number of used features: 26\n",
      "[LightGBM] [Info] Start training from score 6291.341199\n"
     ]
    },
    {
     "name": "stderr",
     "output_type": "stream",
     "text": [
      "/home/pablo-herrera/Documents/USFQ/8vo/DataMining/Proyecto_final/env/lib/python3.12/site-packages/sklearn/utils/validation.py:2739: UserWarning: X does not have valid feature names, but LGBMRegressor was fitted with feature names\n",
      "  warnings.warn(\n",
      "/home/pablo-herrera/Documents/USFQ/8vo/DataMining/Proyecto_final/env/lib/python3.12/site-packages/sklearn/linear_model/_ridge.py:215: LinAlgWarning: Ill-conditioned matrix (rcond=1.23359e-19): result may not be accurate.\n",
      "  return linalg.solve(A, Xy, assume_a=\"pos\", overwrite_a=True).T\n"
     ]
    }
   ],
   "source": [
    "#   Modelo ensamblado (stacking)\n",
    "print(\"Entrenando modelo ensamblado (stacking)...\")\n",
    "stacked_model = train_stacking_model(X_train, y_train, preprocessor, modelos)\n",
    "modelos[\"stacking\"] = stacked_model"
   ]
  },
  {
   "cell_type": "code",
   "execution_count": 7,
   "id": "7d9e3c37",
   "metadata": {},
   "outputs": [
    {
     "name": "stdout",
     "output_type": "stream",
     "text": [
      "Guardando modelos en carpeta /models...\n",
      "Modelos guardados exitosamente en ../models/\n",
      " Entrenamiento completado. Test set disponible para evaluación.\n"
     ]
    }
   ],
   "source": [
    "#  Guardar modelos\n",
    "print(\"Guardando modelos en carpeta /models...\")\n",
    "save_models(modelos, target_name=\"CAC_source_30\", save_path=\"../models/\")\n",
    "\n",
    "print(\" Entrenamiento completado. Test set disponible para evaluación.\")"
   ]
  },
  {
   "cell_type": "markdown",
   "id": "5974561f",
   "metadata": {},
   "source": [
    "## Entrenamiento con split temporal para LTV_180"
   ]
  },
  {
   "cell_type": "code",
   "execution_count": 16,
   "id": "7709a9fb",
   "metadata": {},
   "outputs": [
    {
     "name": "stdout",
     "output_type": "stream",
     "text": [
      "Cargando y preparando datos para LTV_180...\n"
     ]
    }
   ],
   "source": [
    "#  Cargar y preparar datos\n",
    "print(\"Cargando y preparando datos para LTV_180...\")\n",
    "X_train, y_train, X_val_ltv, y_val_ltv, _, _ = load_and_prepare_data(\n",
    "    path=\"../data/processed/final_dataset.csv\",\n",
    "    target=\"LTV_180\",\n",
    "    date_column=\"first_session\"\n",
    ")\n",
    "#  Preprocesamiento\n",
    "preprocessor = build_preprocessor(X_train)"
   ]
  },
  {
   "cell_type": "code",
   "execution_count": 9,
   "id": "e97e42e0",
   "metadata": {},
   "outputs": [
    {
     "name": "stdout",
     "output_type": "stream",
     "text": [
      "Entrenando modelos...\n",
      "[LightGBM] [Info] Auto-choosing col-wise multi-threading, the overhead of testing was 0.011495 seconds.\n",
      "You can set `force_col_wise=true` to remove the overhead.\n",
      "[LightGBM] [Info] Total Bins 2299\n",
      "[LightGBM] [Info] Number of data points in the train set: 22294, number of used features: 26\n",
      "[LightGBM] [Info] Start training from score 7.413806\n"
     ]
    }
   ],
   "source": [
    "# Entrenar modelos base y avanzados\n",
    "print(\"Entrenando modelos...\")\n",
    "modelos = train_models(X_train, y_train, preprocessor)"
   ]
  },
  {
   "cell_type": "code",
   "execution_count": 10,
   "id": "47c664ee",
   "metadata": {},
   "outputs": [
    {
     "name": "stdout",
     "output_type": "stream",
     "text": [
      "Entrenando modelo stacking...\n",
      "[LightGBM] [Info] Auto-choosing row-wise multi-threading, the overhead of testing was 0.002829 seconds.\n",
      "You can set `force_row_wise=true` to remove the overhead.\n",
      "And if memory is not enough, you can set `force_col_wise=true`.\n",
      "[LightGBM] [Info] Total Bins 2299\n",
      "[LightGBM] [Info] Number of data points in the train set: 22294, number of used features: 26\n",
      "[LightGBM] [Info] Start training from score 7.413806\n",
      "[LightGBM] [Info] Auto-choosing row-wise multi-threading, the overhead of testing was 0.003054 seconds.\n",
      "You can set `force_row_wise=true` to remove the overhead.\n",
      "And if memory is not enough, you can set `force_col_wise=true`.\n",
      "[LightGBM] [Info] Total Bins 2280\n",
      "[LightGBM] [Info] Number of data points in the train set: 17835, number of used features: 26\n",
      "[LightGBM] [Info] Start training from score 7.579161\n"
     ]
    },
    {
     "name": "stderr",
     "output_type": "stream",
     "text": [
      "/home/pablo-herrera/Documents/USFQ/8vo/DataMining/Proyecto_final/env/lib/python3.12/site-packages/sklearn/utils/validation.py:2739: UserWarning: X does not have valid feature names, but LGBMRegressor was fitted with feature names\n",
      "  warnings.warn(\n"
     ]
    },
    {
     "name": "stdout",
     "output_type": "stream",
     "text": [
      "[LightGBM] [Info] Auto-choosing row-wise multi-threading, the overhead of testing was 0.002250 seconds.\n",
      "You can set `force_row_wise=true` to remove the overhead.\n",
      "And if memory is not enough, you can set `force_col_wise=true`.\n",
      "[LightGBM] [Info] Total Bins 2276\n",
      "[LightGBM] [Info] Number of data points in the train set: 17835, number of used features: 26\n",
      "[LightGBM] [Info] Start training from score 6.906667\n"
     ]
    },
    {
     "name": "stderr",
     "output_type": "stream",
     "text": [
      "/home/pablo-herrera/Documents/USFQ/8vo/DataMining/Proyecto_final/env/lib/python3.12/site-packages/sklearn/utils/validation.py:2739: UserWarning: X does not have valid feature names, but LGBMRegressor was fitted with feature names\n",
      "  warnings.warn(\n"
     ]
    },
    {
     "name": "stdout",
     "output_type": "stream",
     "text": [
      "[LightGBM] [Info] Auto-choosing row-wise multi-threading, the overhead of testing was 0.001937 seconds.\n",
      "You can set `force_row_wise=true` to remove the overhead.\n",
      "And if memory is not enough, you can set `force_col_wise=true`.\n",
      "[LightGBM] [Info] Total Bins 2285\n",
      "[LightGBM] [Info] Number of data points in the train set: 17835, number of used features: 26\n",
      "[LightGBM] [Info] Start training from score 7.715320\n"
     ]
    },
    {
     "name": "stderr",
     "output_type": "stream",
     "text": [
      "/home/pablo-herrera/Documents/USFQ/8vo/DataMining/Proyecto_final/env/lib/python3.12/site-packages/sklearn/utils/validation.py:2739: UserWarning: X does not have valid feature names, but LGBMRegressor was fitted with feature names\n",
      "  warnings.warn(\n"
     ]
    },
    {
     "name": "stdout",
     "output_type": "stream",
     "text": [
      "[LightGBM] [Info] Auto-choosing row-wise multi-threading, the overhead of testing was 0.002672 seconds.\n",
      "You can set `force_row_wise=true` to remove the overhead.\n",
      "And if memory is not enough, you can set `force_col_wise=true`.\n",
      "[LightGBM] [Info] Total Bins 2281\n",
      "[LightGBM] [Info] Number of data points in the train set: 17835, number of used features: 26\n",
      "[LightGBM] [Info] Start training from score 7.115687\n"
     ]
    },
    {
     "name": "stderr",
     "output_type": "stream",
     "text": [
      "/home/pablo-herrera/Documents/USFQ/8vo/DataMining/Proyecto_final/env/lib/python3.12/site-packages/sklearn/utils/validation.py:2739: UserWarning: X does not have valid feature names, but LGBMRegressor was fitted with feature names\n",
      "  warnings.warn(\n"
     ]
    },
    {
     "name": "stdout",
     "output_type": "stream",
     "text": [
      "[LightGBM] [Info] Auto-choosing col-wise multi-threading, the overhead of testing was 0.011271 seconds.\n",
      "You can set `force_col_wise=true` to remove the overhead.\n",
      "[LightGBM] [Info] Total Bins 2283\n",
      "[LightGBM] [Info] Number of data points in the train set: 17836, number of used features: 26\n",
      "[LightGBM] [Info] Start training from score 7.752178\n"
     ]
    },
    {
     "name": "stderr",
     "output_type": "stream",
     "text": [
      "/home/pablo-herrera/Documents/USFQ/8vo/DataMining/Proyecto_final/env/lib/python3.12/site-packages/sklearn/utils/validation.py:2739: UserWarning: X does not have valid feature names, but LGBMRegressor was fitted with feature names\n",
      "  warnings.warn(\n",
      "/home/pablo-herrera/Documents/USFQ/8vo/DataMining/Proyecto_final/env/lib/python3.12/site-packages/sklearn/linear_model/_ridge.py:215: LinAlgWarning: Ill-conditioned matrix (rcond=2.61641e-22): result may not be accurate.\n",
      "  return linalg.solve(A, Xy, assume_a=\"pos\", overwrite_a=True).T\n"
     ]
    }
   ],
   "source": [
    "# Ensamblador\n",
    "print(\"Entrenando modelo stacking...\")\n",
    "stacked_model = train_stacking_model(X_train, y_train, preprocessor, modelos)\n",
    "modelos[\"stacking\"] = stacked_model"
   ]
  },
  {
   "cell_type": "code",
   "execution_count": 11,
   "id": "b9fd07f1",
   "metadata": {},
   "outputs": [
    {
     "name": "stdout",
     "output_type": "stream",
     "text": [
      "Guardando modelos...\n",
      "Modelos guardados exitosamente en ../models/\n",
      " Entrenamiento y test set listo para evaluación.\n"
     ]
    }
   ],
   "source": [
    "#  Guardar\n",
    "print(\"Guardando modelos...\")\n",
    "save_models(modelos, target_name=\"LTV_180\", save_path=\"../models/\")\n",
    "\n",
    "print(\" Entrenamiento y test set listo para evaluación.\")"
   ]
  }
 ],
 "metadata": {
  "kernelspec": {
   "display_name": "env",
   "language": "python",
   "name": "python3"
  },
  "language_info": {
   "codemirror_mode": {
    "name": "ipython",
    "version": 3
   },
   "file_extension": ".py",
   "mimetype": "text/x-python",
   "name": "python",
   "nbconvert_exporter": "python",
   "pygments_lexer": "ipython3",
   "version": "3.12.3"
  }
 },
 "nbformat": 4,
 "nbformat_minor": 5
}
