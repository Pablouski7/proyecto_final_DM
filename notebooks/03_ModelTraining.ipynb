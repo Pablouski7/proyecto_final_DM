{
 "cells": [
  {
   "cell_type": "markdown",
   "id": "1fc0f68e",
   "metadata": {},
   "source": [
    "## Entrenamiento con split temporal para CAC_source_30"
   ]
  },
  {
   "cell_type": "code",
   "execution_count": 15,
   "id": "baf03f05",
   "metadata": {},
   "outputs": [
    {
     "name": "stdout",
     "output_type": "stream",
     "text": [
      "Cargando y preparando datos para CAC_source_30...\n"
     ]
    }
   ],
   "source": [
    "#  Inicialización\n",
    "import os\n",
    "import sys\n",
    "import pandas as pd\n",
    "\n",
    "# Añadir src al path para importar los scripts\n",
    "sys.path.append(os.path.abspath(os.path.join(os.getcwd(), '..', 'src')))\n",
    "\n",
    "#  Imports del script\n",
    "from train import (\n",
    "    load_and_prepare_data,\n",
    "    build_preprocessor,\n",
    "    train_models,\n",
    "    train_stacking_model,\n",
    "    save_models\n",
    ")\n",
    "\n",
    "#  Cargar y preparar datos\n",
    "print(\"Cargando y preparando datos para CAC_source_30...\")\n",
    "X_train, y_train, X_val_cac, y_val_cac, _, _ = load_and_prepare_data(\n",
    "    path=\"../data/processed/final_dataset.csv\",\n",
    "    target=\"CAC_source_30\",\n",
    "    date_column=\"first_session\"\n",
    ")\n",
    "\n",
    "#  Preprocesamiento automático\n",
    "preprocessor = build_preprocessor(X_train)"
   ]
  },
  {
   "cell_type": "code",
   "execution_count": 5,
   "id": "d98dd9bb",
   "metadata": {},
   "outputs": [
    {
     "name": "stdout",
     "output_type": "stream",
     "text": [
      "Entrenando modelos base y avanzados...\n",
      "[LightGBM] [Info] Auto-choosing row-wise multi-threading, the overhead of testing was 0.012558 seconds.\n",
      "You can set `force_row_wise=true` to remove the overhead.\n",
      "And if memory is not enough, you can set `force_col_wise=true`.\n",
      "[LightGBM] [Info] Total Bins 2377\n",
      "[LightGBM] [Info] Number of data points in the train set: 23174, number of used features: 26\n",
      "[LightGBM] [Info] Start training from score 6296.056221\n"
     ]
    }
   ],
   "source": [
    "#  Entrenar modelos individuales\n",
    "print(\"Entrenando modelos base y avanzados...\")\n",
    "modelos = train_models(X_train, y_train, preprocessor)"
   ]
  },
  {
   "cell_type": "code",
   "execution_count": 6,
   "id": "027969af",
   "metadata": {},
   "outputs": [
    {
     "name": "stdout",
     "output_type": "stream",
     "text": [
      "Entrenando modelo ensamblado (stacking)...\n",
      "[LightGBM] [Info] Auto-choosing row-wise multi-threading, the overhead of testing was 0.003069 seconds.\n",
      "You can set `force_row_wise=true` to remove the overhead.\n",
      "And if memory is not enough, you can set `force_col_wise=true`.\n",
      "[LightGBM] [Info] Total Bins 2377\n",
      "[LightGBM] [Info] Number of data points in the train set: 23174, number of used features: 26\n",
      "[LightGBM] [Info] Start training from score 6296.056221\n",
      "[LightGBM] [Info] Auto-choosing row-wise multi-threading, the overhead of testing was 0.003649 seconds.\n",
      "You can set `force_row_wise=true` to remove the overhead.\n",
      "And if memory is not enough, you can set `force_col_wise=true`.\n",
      "[LightGBM] [Info] Total Bins 2358\n",
      "[LightGBM] [Info] Number of data points in the train set: 18539, number of used features: 26\n",
      "[LightGBM] [Info] Start training from score 6282.456550\n"
     ]
    },
    {
     "name": "stderr",
     "output_type": "stream",
     "text": [
      "/home/pablo-herrera/Documents/USFQ/8vo/DataMining/Proyecto_final/env/lib/python3.12/site-packages/sklearn/utils/validation.py:2739: UserWarning: X does not have valid feature names, but LGBMRegressor was fitted with feature names\n",
      "  warnings.warn(\n"
     ]
    },
    {
     "name": "stdout",
     "output_type": "stream",
     "text": [
      "[LightGBM] [Info] Auto-choosing row-wise multi-threading, the overhead of testing was 0.002682 seconds.\n",
      "You can set `force_row_wise=true` to remove the overhead.\n",
      "And if memory is not enough, you can set `force_col_wise=true`.\n",
      "[LightGBM] [Info] Total Bins 2353\n",
      "[LightGBM] [Info] Number of data points in the train set: 18539, number of used features: 26\n",
      "[LightGBM] [Info] Start training from score 6315.656794\n"
     ]
    },
    {
     "name": "stderr",
     "output_type": "stream",
     "text": [
      "/home/pablo-herrera/Documents/USFQ/8vo/DataMining/Proyecto_final/env/lib/python3.12/site-packages/sklearn/utils/validation.py:2739: UserWarning: X does not have valid feature names, but LGBMRegressor was fitted with feature names\n",
      "  warnings.warn(\n"
     ]
    },
    {
     "name": "stdout",
     "output_type": "stream",
     "text": [
      "[LightGBM] [Info] Auto-choosing col-wise multi-threading, the overhead of testing was 0.008954 seconds.\n",
      "You can set `force_col_wise=true` to remove the overhead.\n",
      "[LightGBM] [Info] Total Bins 2362\n",
      "[LightGBM] [Info] Number of data points in the train set: 18539, number of used features: 26\n",
      "[LightGBM] [Info] Start training from score 6292.274192\n"
     ]
    },
    {
     "name": "stderr",
     "output_type": "stream",
     "text": [
      "/home/pablo-herrera/Documents/USFQ/8vo/DataMining/Proyecto_final/env/lib/python3.12/site-packages/sklearn/utils/validation.py:2739: UserWarning: X does not have valid feature names, but LGBMRegressor was fitted with feature names\n",
      "  warnings.warn(\n"
     ]
    },
    {
     "name": "stdout",
     "output_type": "stream",
     "text": [
      "[LightGBM] [Info] Auto-choosing row-wise multi-threading, the overhead of testing was 0.002486 seconds.\n",
      "You can set `force_row_wise=true` to remove the overhead.\n",
      "And if memory is not enough, you can set `force_col_wise=true`.\n",
      "[LightGBM] [Info] Total Bins 2359\n",
      "[LightGBM] [Info] Number of data points in the train set: 18539, number of used features: 26\n",
      "[LightGBM] [Info] Start training from score 6298.552624\n"
     ]
    },
    {
     "name": "stderr",
     "output_type": "stream",
     "text": [
      "/home/pablo-herrera/Documents/USFQ/8vo/DataMining/Proyecto_final/env/lib/python3.12/site-packages/sklearn/utils/validation.py:2739: UserWarning: X does not have valid feature names, but LGBMRegressor was fitted with feature names\n",
      "  warnings.warn(\n"
     ]
    },
    {
     "name": "stdout",
     "output_type": "stream",
     "text": [
      "[LightGBM] [Info] Auto-choosing col-wise multi-threading, the overhead of testing was 0.009313 seconds.\n",
      "You can set `force_col_wise=true` to remove the overhead.\n",
      "[LightGBM] [Info] Total Bins 2361\n",
      "[LightGBM] [Info] Number of data points in the train set: 18540, number of used features: 26\n",
      "[LightGBM] [Info] Start training from score 6291.341199\n"
     ]
    },
    {
     "name": "stderr",
     "output_type": "stream",
     "text": [
      "/home/pablo-herrera/Documents/USFQ/8vo/DataMining/Proyecto_final/env/lib/python3.12/site-packages/sklearn/utils/validation.py:2739: UserWarning: X does not have valid feature names, but LGBMRegressor was fitted with feature names\n",
      "  warnings.warn(\n",
      "/home/pablo-herrera/Documents/USFQ/8vo/DataMining/Proyecto_final/env/lib/python3.12/site-packages/sklearn/linear_model/_ridge.py:215: LinAlgWarning: Ill-conditioned matrix (rcond=1.23359e-19): result may not be accurate.\n",
      "  return linalg.solve(A, Xy, assume_a=\"pos\", overwrite_a=True).T\n"
     ]
    }
   ],
   "source": [
    "#   Modelo ensamblado (stacking)\n",
    "print(\"Entrenando modelo ensamblado (stacking)...\")\n",
    "stacked_model = train_stacking_model(X_train, y_train, preprocessor, modelos)\n",
    "modelos[\"stacking\"] = stacked_model"
   ]
  },
  {
   "cell_type": "code",
   "execution_count": 7,
   "id": "7d9e3c37",
   "metadata": {},
   "outputs": [
    {
     "name": "stdout",
     "output_type": "stream",
     "text": [
      "Guardando modelos en carpeta /models...\n",
      "Modelos guardados exitosamente en ../models/\n",
      " Entrenamiento completado. Test set disponible para evaluación.\n"
     ]
    }
   ],
   "source": [
    "#  Guardar modelos\n",
    "print(\"Guardando modelos en carpeta /models...\")\n",
    "save_models(modelos, target_name=\"CAC_source_30\", save_path=\"../models/\")\n",
    "\n",
    "print(\" Entrenamiento completado. Test set disponible para evaluación.\")"
   ]
  },
  {
   "cell_type": "markdown",
   "id": "5974561f",
   "metadata": {},
   "source": [
    "## Entrenamiento con split temporal para LTV_180"
   ]
  },
  {
   "cell_type": "code",
   "execution_count": 16,
   "id": "7709a9fb",
   "metadata": {},
   "outputs": [
    {
     "name": "stdout",
     "output_type": "stream",
     "text": [
      "Cargando y preparando datos para LTV_180...\n"
     ]
    }
   ],
   "source": [
    "#  Cargar y preparar datos\n",
    "print(\"Cargando y preparando datos para LTV_180...\")\n",
    "X_train, y_train, X_val_ltv, y_val_ltv, _, _ = load_and_prepare_data(\n",
    "    path=\"../data/processed/final_dataset.csv\",\n",
    "    target=\"LTV_180\",\n",
    "    date_column=\"first_session\"\n",
    ")\n",
    "#  Preprocesamiento\n",
    "preprocessor = build_preprocessor(X_train)"
   ]
  },
  {
   "cell_type": "code",
   "execution_count": 9,
   "id": "e97e42e0",
   "metadata": {},
   "outputs": [
    {
     "name": "stdout",
     "output_type": "stream",
     "text": [
      "Entrenando modelos...\n",
      "[LightGBM] [Info] Auto-choosing col-wise multi-threading, the overhead of testing was 0.011495 seconds.\n",
      "You can set `force_col_wise=true` to remove the overhead.\n",
      "[LightGBM] [Info] Total Bins 2299\n",
      "[LightGBM] [Info] Number of data points in the train set: 22294, number of used features: 26\n",
      "[LightGBM] [Info] Start training from score 7.413806\n"
     ]
    }
   ],
   "source": [
    "# Entrenar modelos base y avanzados\n",
    "print(\"Entrenando modelos...\")\n",
    "modelos = train_models(X_train, y_train, preprocessor)"
   ]
  },
  {
   "cell_type": "code",
   "execution_count": 10,
   "id": "47c664ee",
   "metadata": {},
   "outputs": [
    {
     "name": "stdout",
     "output_type": "stream",
     "text": [
      "Entrenando modelo stacking...\n",
      "[LightGBM] [Info] Auto-choosing row-wise multi-threading, the overhead of testing was 0.002829 seconds.\n",
      "You can set `force_row_wise=true` to remove the overhead.\n",
      "And if memory is not enough, you can set `force_col_wise=true`.\n",
      "[LightGBM] [Info] Total Bins 2299\n",
      "[LightGBM] [Info] Number of data points in the train set: 22294, number of used features: 26\n",
      "[LightGBM] [Info] Start training from score 7.413806\n",
      "[LightGBM] [Info] Auto-choosing row-wise multi-threading, the overhead of testing was 0.003054 seconds.\n",
      "You can set `force_row_wise=true` to remove the overhead.\n",
      "And if memory is not enough, you can set `force_col_wise=true`.\n",
      "[LightGBM] [Info] Total Bins 2280\n",
      "[LightGBM] [Info] Number of data points in the train set: 17835, number of used features: 26\n",
      "[LightGBM] [Info] Start training from score 7.579161\n"
     ]
    },
    {
     "name": "stderr",
     "output_type": "stream",
     "text": [
      "/home/pablo-herrera/Documents/USFQ/8vo/DataMining/Proyecto_final/env/lib/python3.12/site-packages/sklearn/utils/validation.py:2739: UserWarning: X does not have valid feature names, but LGBMRegressor was fitted with feature names\n",
      "  warnings.warn(\n"
     ]
    },
    {
     "name": "stdout",
     "output_type": "stream",
     "text": [
      "[LightGBM] [Info] Auto-choosing row-wise multi-threading, the overhead of testing was 0.002250 seconds.\n",
      "You can set `force_row_wise=true` to remove the overhead.\n",
      "And if memory is not enough, you can set `force_col_wise=true`.\n",
      "[LightGBM] [Info] Total Bins 2276\n",
      "[LightGBM] [Info] Number of data points in the train set: 17835, number of used features: 26\n",
      "[LightGBM] [Info] Start training from score 6.906667\n"
     ]
    },
    {
     "name": "stderr",
     "output_type": "stream",
     "text": [
      "/home/pablo-herrera/Documents/USFQ/8vo/DataMining/Proyecto_final/env/lib/python3.12/site-packages/sklearn/utils/validation.py:2739: UserWarning: X does not have valid feature names, but LGBMRegressor was fitted with feature names\n",
      "  warnings.warn(\n"
     ]
    },
    {
     "name": "stdout",
     "output_type": "stream",
     "text": [
      "[LightGBM] [Info] Auto-choosing row-wise multi-threading, the overhead of testing was 0.001937 seconds.\n",
      "You can set `force_row_wise=true` to remove the overhead.\n",
      "And if memory is not enough, you can set `force_col_wise=true`.\n",
      "[LightGBM] [Info] Total Bins 2285\n",
      "[LightGBM] [Info] Number of data points in the train set: 17835, number of used features: 26\n",
      "[LightGBM] [Info] Start training from score 7.715320\n"
     ]
    },
    {
     "name": "stderr",
     "output_type": "stream",
     "text": [
      "/home/pablo-herrera/Documents/USFQ/8vo/DataMining/Proyecto_final/env/lib/python3.12/site-packages/sklearn/utils/validation.py:2739: UserWarning: X does not have valid feature names, but LGBMRegressor was fitted with feature names\n",
      "  warnings.warn(\n"
     ]
    },
    {
     "name": "stdout",
     "output_type": "stream",
     "text": [
      "[LightGBM] [Info] Auto-choosing row-wise multi-threading, the overhead of testing was 0.002672 seconds.\n",
      "You can set `force_row_wise=true` to remove the overhead.\n",
      "And if memory is not enough, you can set `force_col_wise=true`.\n",
      "[LightGBM] [Info] Total Bins 2281\n",
      "[LightGBM] [Info] Number of data points in the train set: 17835, number of used features: 26\n",
      "[LightGBM] [Info] Start training from score 7.115687\n"
     ]
    },
    {
     "name": "stderr",
     "output_type": "stream",
     "text": [
      "/home/pablo-herrera/Documents/USFQ/8vo/DataMining/Proyecto_final/env/lib/python3.12/site-packages/sklearn/utils/validation.py:2739: UserWarning: X does not have valid feature names, but LGBMRegressor was fitted with feature names\n",
      "  warnings.warn(\n"
     ]
    },
    {
     "name": "stdout",
     "output_type": "stream",
     "text": [
      "[LightGBM] [Info] Auto-choosing col-wise multi-threading, the overhead of testing was 0.011271 seconds.\n",
      "You can set `force_col_wise=true` to remove the overhead.\n",
      "[LightGBM] [Info] Total Bins 2283\n",
      "[LightGBM] [Info] Number of data points in the train set: 17836, number of used features: 26\n",
      "[LightGBM] [Info] Start training from score 7.752178\n"
     ]
    },
    {
     "name": "stderr",
     "output_type": "stream",
     "text": [
      "/home/pablo-herrera/Documents/USFQ/8vo/DataMining/Proyecto_final/env/lib/python3.12/site-packages/sklearn/utils/validation.py:2739: UserWarning: X does not have valid feature names, but LGBMRegressor was fitted with feature names\n",
      "  warnings.warn(\n",
      "/home/pablo-herrera/Documents/USFQ/8vo/DataMining/Proyecto_final/env/lib/python3.12/site-packages/sklearn/linear_model/_ridge.py:215: LinAlgWarning: Ill-conditioned matrix (rcond=2.61641e-22): result may not be accurate.\n",
      "  return linalg.solve(A, Xy, assume_a=\"pos\", overwrite_a=True).T\n"
     ]
    }
   ],
   "source": [
    "# Ensamblador\n",
    "print(\"Entrenando modelo stacking...\")\n",
    "stacked_model = train_stacking_model(X_train, y_train, preprocessor, modelos)\n",
    "modelos[\"stacking\"] = stacked_model"
   ]
  },
  {
   "cell_type": "code",
   "execution_count": 11,
   "id": "b9fd07f1",
   "metadata": {},
   "outputs": [
    {
     "name": "stdout",
     "output_type": "stream",
     "text": [
      "Guardando modelos...\n",
      "Modelos guardados exitosamente en ../models/\n",
      " Entrenamiento y test set listo para evaluación.\n"
     ]
    }
   ],
   "source": [
    "#  Guardar\n",
    "print(\"Guardando modelos...\")\n",
    "save_models(modelos, target_name=\"LTV_180\", save_path=\"../models/\")\n",
    "\n",
    "print(\" Entrenamiento y test set listo para evaluación.\")"
   ]
  },
  {
   "cell_type": "markdown",
   "id": "552cb67d",
   "metadata": {},
   "source": [
    "## Evaluación en validación"
   ]
  },
  {
   "cell_type": "code",
   "execution_count": null,
   "id": "58e572fa",
   "metadata": {},
   "outputs": [
    {
     "name": "stdout",
     "output_type": "stream",
     "text": [
      "Cargando y preparando datos para LTV_180...\n"
     ]
    },
    {
     "data": {
      "text/plain": [
       "{'MAE': 0.25449865765340146,\n",
       " 'RMSE': np.float64(3.8746337067578986),\n",
       " 'MAPE': np.float64(5.412947594421987)}"
      ]
     },
     "metadata": {},
     "output_type": "display_data"
    }
   ],
   "source": [
    "import joblib\n",
    "#  Cargar y preparar datos\n",
    "X_train, y_train, X_val_ltv, y_val_ltv, X_test_ltv, y_test_ltv = load_and_prepare_data(\n",
    "    path=\"../data/processed/final_dataset.csv\",\n",
    "    target=\"LTV_180\",\n",
    "    date_column=\"first_session\"\n",
    ")\n",
    "#  Preprocesamiento\n",
    "preprocessor = build_preprocessor(X_train)\n",
    "best_ltv_model = joblib.load(\"../models/LTV_180_best_tscv.pkl\")\n",
    "from evaluation import evaluate_model\n",
    "\n",
    "results = evaluate_model(best_ltv_model, X_test_ltv, y_test_ltv)\n",
    "display(results)\n"
   ]
  },
  {
   "cell_type": "code",
   "execution_count": 28,
   "id": "636f27cb",
   "metadata": {},
   "outputs": [
    {
     "data": {
      "text/plain": [
       "{'MAE': 1916.3222743812662,\n",
       " 'RMSE': np.float64(2353.1732649169726),\n",
       " 'MAPE': np.float64(174.80943859606978)}"
      ]
     },
     "metadata": {},
     "output_type": "display_data"
    }
   ],
   "source": [
    "import joblib\n",
    "#  Cargar y preparar datos\n",
    "X_train, y_train, X_val_ltv, y_val_ltv, X_test_ltv, y_test_ltv = load_and_prepare_data(\n",
    "    path=\"../data/processed/final_dataset.csv\",\n",
    "    target=\"CAC_source_30\",\n",
    "    date_column=\"first_session\"\n",
    ")\n",
    "#  Preprocesamiento\n",
    "preprocessor = build_preprocessor(X_train)\n",
    "best_ltv_model = joblib.load(\"../models/CAC_source_30_best_tscv.pkl\")\n",
    "from evaluation import evaluate_model\n",
    "\n",
    "results = evaluate_model(best_ltv_model, X_test_ltv, y_test_ltv)\n",
    "display(results)\n"
   ]
  },
  {
   "cell_type": "code",
   "execution_count": 22,
   "id": "2b66b87e",
   "metadata": {},
   "outputs": [
    {
     "name": "stdout",
     "output_type": "stream",
     "text": [
      "\n",
      "Evaluación de modelos: LTV_180\n"
     ]
    },
    {
     "name": "stderr",
     "output_type": "stream",
     "text": [
      "/home/pablo-herrera/Documents/USFQ/8vo/DataMining/Proyecto_final/env/lib/python3.12/site-packages/sklearn/utils/validation.py:2739: UserWarning: X does not have valid feature names, but LGBMRegressor was fitted with feature names\n",
      "  warnings.warn(\n",
      "/home/pablo-herrera/Documents/USFQ/8vo/DataMining/Proyecto_final/env/lib/python3.12/site-packages/sklearn/utils/validation.py:2739: UserWarning: X does not have valid feature names, but LGBMRegressor was fitted with feature names\n",
      "  warnings.warn(\n"
     ]
    },
    {
     "data": {
      "text/html": [
       "<style type=\"text/css\">\n",
       "#T_ca338_row0_col0, #T_ca338_row0_col1, #T_ca338_row0_col2, #T_ca338_row1_col0, #T_ca338_row1_col1, #T_ca338_row1_col2, #T_ca338_row2_col0, #T_ca338_row2_col1, #T_ca338_row2_col2, #T_ca338_row3_col0, #T_ca338_row3_col1, #T_ca338_row3_col2, #T_ca338_row4_col0, #T_ca338_row4_col1, #T_ca338_row4_col2, #T_ca338_row5_col0, #T_ca338_row5_col1, #T_ca338_row5_col2, #T_ca338_row6_col0, #T_ca338_row6_col1, #T_ca338_row6_col2, #T_ca338_row7_col0, #T_ca338_row7_col1, #T_ca338_row7_col2 {\n",
       "  background-color: #fff7fb;\n",
       "  color: #000000;\n",
       "}\n",
       "#T_ca338_row8_col0, #T_ca338_row8_col1, #T_ca338_row8_col2 {\n",
       "  background-color: #023858;\n",
       "  color: #f1f1f1;\n",
       "}\n",
       "</style>\n",
       "<table id=\"T_ca338\">\n",
       "  <thead>\n",
       "    <tr>\n",
       "      <th class=\"blank level0\" >&nbsp;</th>\n",
       "      <th id=\"T_ca338_level0_col0\" class=\"col_heading level0 col0\" >MAE</th>\n",
       "      <th id=\"T_ca338_level0_col1\" class=\"col_heading level0 col1\" >RMSE</th>\n",
       "      <th id=\"T_ca338_level0_col2\" class=\"col_heading level0 col2\" >MAPE</th>\n",
       "    </tr>\n",
       "    <tr>\n",
       "      <th class=\"index_name level0\" >Model</th>\n",
       "      <th class=\"blank col0\" >&nbsp;</th>\n",
       "      <th class=\"blank col1\" >&nbsp;</th>\n",
       "      <th class=\"blank col2\" >&nbsp;</th>\n",
       "    </tr>\n",
       "  </thead>\n",
       "  <tbody>\n",
       "    <tr>\n",
       "      <th id=\"T_ca338_level0_row0\" class=\"row_heading level0 row0\" >rf</th>\n",
       "      <td id=\"T_ca338_row0_col0\" class=\"data row0 col0\" >0.088100</td>\n",
       "      <td id=\"T_ca338_row0_col1\" class=\"data row0 col1\" >2.176000</td>\n",
       "      <td id=\"T_ca338_row0_col2\" class=\"data row0 col2\" >0.172000</td>\n",
       "    </tr>\n",
       "    <tr>\n",
       "      <th id=\"T_ca338_level0_row1\" class=\"row_heading level0 row1\" >lgb</th>\n",
       "      <td id=\"T_ca338_row1_col0\" class=\"data row1 col0\" >0.770300</td>\n",
       "      <td id=\"T_ca338_row1_col1\" class=\"data row1 col1\" >16.850100</td>\n",
       "      <td id=\"T_ca338_row1_col2\" class=\"data row1 col2\" >2.244200</td>\n",
       "    </tr>\n",
       "    <tr>\n",
       "      <th id=\"T_ca338_level0_row2\" class=\"row_heading level0 row2\" >xgb</th>\n",
       "      <td id=\"T_ca338_row2_col0\" class=\"data row2 col0\" >0.165100</td>\n",
       "      <td id=\"T_ca338_row2_col1\" class=\"data row2 col1\" >2.179800</td>\n",
       "      <td id=\"T_ca338_row2_col2\" class=\"data row2 col2\" >2.301500</td>\n",
       "    </tr>\n",
       "    <tr>\n",
       "      <th id=\"T_ca338_level0_row3\" class=\"row_heading level0 row3\" >best_tscv</th>\n",
       "      <td id=\"T_ca338_row3_col0\" class=\"data row3 col0\" >0.156500</td>\n",
       "      <td id=\"T_ca338_row3_col1\" class=\"data row3 col1\" >2.948000</td>\n",
       "      <td id=\"T_ca338_row3_col2\" class=\"data row3 col2\" >4.978900</td>\n",
       "    </tr>\n",
       "    <tr>\n",
       "      <th id=\"T_ca338_level0_row4\" class=\"row_heading level0 row4\" >cat</th>\n",
       "      <td id=\"T_ca338_row4_col0\" class=\"data row4 col0\" >0.574900</td>\n",
       "      <td id=\"T_ca338_row4_col1\" class=\"data row4 col1\" >17.218800</td>\n",
       "      <td id=\"T_ca338_row4_col2\" class=\"data row4 col2\" >14.177900</td>\n",
       "    </tr>\n",
       "    <tr>\n",
       "      <th id=\"T_ca338_level0_row5\" class=\"row_heading level0 row5\" >ridge</th>\n",
       "      <td id=\"T_ca338_row5_col0\" class=\"data row5 col0\" >3.238600</td>\n",
       "      <td id=\"T_ca338_row5_col1\" class=\"data row5 col1\" >5.325200</td>\n",
       "      <td id=\"T_ca338_row5_col2\" class=\"data row5 col2\" >201.171500</td>\n",
       "    </tr>\n",
       "    <tr>\n",
       "      <th id=\"T_ca338_level0_row6\" class=\"row_heading level0 row6\" >linear</th>\n",
       "      <td id=\"T_ca338_row6_col0\" class=\"data row6 col0\" >3.240400</td>\n",
       "      <td id=\"T_ca338_row6_col1\" class=\"data row6 col1\" >5.326700</td>\n",
       "      <td id=\"T_ca338_row6_col2\" class=\"data row6 col2\" >201.343300</td>\n",
       "    </tr>\n",
       "    <tr>\n",
       "      <th id=\"T_ca338_level0_row7\" class=\"row_heading level0 row7\" >stacking</th>\n",
       "      <td id=\"T_ca338_row7_col0\" class=\"data row7 col0\" >3.476300</td>\n",
       "      <td id=\"T_ca338_row7_col1\" class=\"data row7 col1\" >5.183600</td>\n",
       "      <td id=\"T_ca338_row7_col2\" class=\"data row7 col2\" >232.695000</td>\n",
       "    </tr>\n",
       "    <tr>\n",
       "      <th id=\"T_ca338_level0_row8\" class=\"row_heading level0 row8\" >sgd</th>\n",
       "      <td id=\"T_ca338_row8_col0\" class=\"data row8 col0\" >36526379.097700</td>\n",
       "      <td id=\"T_ca338_row8_col1\" class=\"data row8 col1\" >68432151.846200</td>\n",
       "      <td id=\"T_ca338_row8_col2\" class=\"data row8 col2\" >2423252965.246400</td>\n",
       "    </tr>\n",
       "  </tbody>\n",
       "</table>\n"
      ],
      "text/plain": [
       "<pandas.io.formats.style.Styler at 0x71a3b89ff530>"
      ]
     },
     "metadata": {},
     "output_type": "display_data"
    },
    {
     "name": "stdout",
     "output_type": "stream",
     "text": [
      "\n",
      "Evaluación de modelos: CAC_source_30\n"
     ]
    },
    {
     "name": "stderr",
     "output_type": "stream",
     "text": [
      "/home/pablo-herrera/Documents/USFQ/8vo/DataMining/Proyecto_final/env/lib/python3.12/site-packages/sklearn/utils/validation.py:2739: UserWarning: X does not have valid feature names, but LGBMRegressor was fitted with feature names\n",
      "  warnings.warn(\n",
      "/home/pablo-herrera/Documents/USFQ/8vo/DataMining/Proyecto_final/env/lib/python3.12/site-packages/sklearn/utils/validation.py:2739: UserWarning: X does not have valid feature names, but LGBMRegressor was fitted with feature names\n",
      "  warnings.warn(\n"
     ]
    },
    {
     "data": {
      "text/html": [
       "<style type=\"text/css\">\n",
       "#T_b5c7b_row0_col0, #T_b5c7b_row0_col1, #T_b5c7b_row0_col2, #T_b5c7b_row1_col0, #T_b5c7b_row1_col1, #T_b5c7b_row1_col2, #T_b5c7b_row2_col0, #T_b5c7b_row2_col1, #T_b5c7b_row2_col2, #T_b5c7b_row3_col0, #T_b5c7b_row3_col1, #T_b5c7b_row3_col2, #T_b5c7b_row4_col0, #T_b5c7b_row4_col1, #T_b5c7b_row4_col2, #T_b5c7b_row5_col0, #T_b5c7b_row5_col1, #T_b5c7b_row5_col2, #T_b5c7b_row6_col0, #T_b5c7b_row6_col1, #T_b5c7b_row6_col2, #T_b5c7b_row7_col0, #T_b5c7b_row7_col1, #T_b5c7b_row7_col2 {\n",
       "  background-color: #fff7fb;\n",
       "  color: #000000;\n",
       "}\n",
       "#T_b5c7b_row8_col0, #T_b5c7b_row8_col1, #T_b5c7b_row8_col2 {\n",
       "  background-color: #023858;\n",
       "  color: #f1f1f1;\n",
       "}\n",
       "</style>\n",
       "<table id=\"T_b5c7b\">\n",
       "  <thead>\n",
       "    <tr>\n",
       "      <th class=\"blank level0\" >&nbsp;</th>\n",
       "      <th id=\"T_b5c7b_level0_col0\" class=\"col_heading level0 col0\" >MAE</th>\n",
       "      <th id=\"T_b5c7b_level0_col1\" class=\"col_heading level0 col1\" >RMSE</th>\n",
       "      <th id=\"T_b5c7b_level0_col2\" class=\"col_heading level0 col2\" >MAPE</th>\n",
       "    </tr>\n",
       "    <tr>\n",
       "      <th class=\"index_name level0\" >Model</th>\n",
       "      <th class=\"blank col0\" >&nbsp;</th>\n",
       "      <th class=\"blank col1\" >&nbsp;</th>\n",
       "      <th class=\"blank col2\" >&nbsp;</th>\n",
       "    </tr>\n",
       "  </thead>\n",
       "  <tbody>\n",
       "    <tr>\n",
       "      <th id=\"T_b5c7b_level0_row0\" class=\"row_heading level0 row0\" >stacking</th>\n",
       "      <td id=\"T_b5c7b_row0_col0\" class=\"data row0 col0\" >2764.265400</td>\n",
       "      <td id=\"T_b5c7b_row0_col1\" class=\"data row0 col1\" >3927.841200</td>\n",
       "      <td id=\"T_b5c7b_row0_col2\" class=\"data row0 col2\" >66.357300</td>\n",
       "    </tr>\n",
       "    <tr>\n",
       "      <th id=\"T_b5c7b_level0_row1\" class=\"row_heading level0 row1\" >rf</th>\n",
       "      <td id=\"T_b5c7b_row1_col0\" class=\"data row1 col0\" >2498.004100</td>\n",
       "      <td id=\"T_b5c7b_row1_col1\" class=\"data row1 col1\" >3587.999700</td>\n",
       "      <td id=\"T_b5c7b_row1_col2\" class=\"data row1 col2\" >66.738000</td>\n",
       "    </tr>\n",
       "    <tr>\n",
       "      <th id=\"T_b5c7b_level0_row2\" class=\"row_heading level0 row2\" >best_tscv</th>\n",
       "      <td id=\"T_b5c7b_row2_col0\" class=\"data row2 col0\" >2837.095800</td>\n",
       "      <td id=\"T_b5c7b_row2_col1\" class=\"data row2 col1\" >4046.893200</td>\n",
       "      <td id=\"T_b5c7b_row2_col2\" class=\"data row2 col2\" >67.216300</td>\n",
       "    </tr>\n",
       "    <tr>\n",
       "      <th id=\"T_b5c7b_level0_row3\" class=\"row_heading level0 row3\" >lgb</th>\n",
       "      <td id=\"T_b5c7b_row3_col0\" class=\"data row3 col0\" >2904.049400</td>\n",
       "      <td id=\"T_b5c7b_row3_col1\" class=\"data row3 col1\" >4110.178600</td>\n",
       "      <td id=\"T_b5c7b_row3_col2\" class=\"data row3 col2\" >67.482500</td>\n",
       "    </tr>\n",
       "    <tr>\n",
       "      <th id=\"T_b5c7b_level0_row4\" class=\"row_heading level0 row4\" >cat</th>\n",
       "      <td id=\"T_b5c7b_row4_col0\" class=\"data row4 col0\" >2879.008600</td>\n",
       "      <td id=\"T_b5c7b_row4_col1\" class=\"data row4 col1\" >4110.869700</td>\n",
       "      <td id=\"T_b5c7b_row4_col2\" class=\"data row4 col2\" >68.038200</td>\n",
       "    </tr>\n",
       "    <tr>\n",
       "      <th id=\"T_b5c7b_level0_row5\" class=\"row_heading level0 row5\" >xgb</th>\n",
       "      <td id=\"T_b5c7b_row5_col0\" class=\"data row5 col0\" >2733.684800</td>\n",
       "      <td id=\"T_b5c7b_row5_col1\" class=\"data row5 col1\" >3892.321000</td>\n",
       "      <td id=\"T_b5c7b_row5_col2\" class=\"data row5 col2\" >71.052400</td>\n",
       "    </tr>\n",
       "    <tr>\n",
       "      <th id=\"T_b5c7b_level0_row6\" class=\"row_heading level0 row6\" >linear</th>\n",
       "      <td id=\"T_b5c7b_row6_col0\" class=\"data row6 col0\" >3590.678300</td>\n",
       "      <td id=\"T_b5c7b_row6_col1\" class=\"data row6 col1\" >4618.769600</td>\n",
       "      <td id=\"T_b5c7b_row6_col2\" class=\"data row6 col2\" >73.026900</td>\n",
       "    </tr>\n",
       "    <tr>\n",
       "      <th id=\"T_b5c7b_level0_row7\" class=\"row_heading level0 row7\" >ridge</th>\n",
       "      <td id=\"T_b5c7b_row7_col0\" class=\"data row7 col0\" >3590.854200</td>\n",
       "      <td id=\"T_b5c7b_row7_col1\" class=\"data row7 col1\" >4618.944400</td>\n",
       "      <td id=\"T_b5c7b_row7_col2\" class=\"data row7 col2\" >73.027600</td>\n",
       "    </tr>\n",
       "    <tr>\n",
       "      <th id=\"T_b5c7b_level0_row8\" class=\"row_heading level0 row8\" >sgd</th>\n",
       "      <td id=\"T_b5c7b_row8_col0\" class=\"data row8 col0\" >5797309.463500</td>\n",
       "      <td id=\"T_b5c7b_row8_col1\" class=\"data row8 col1\" >7629539.212700</td>\n",
       "      <td id=\"T_b5c7b_row8_col2\" class=\"data row8 col2\" >194700.929600</td>\n",
       "    </tr>\n",
       "  </tbody>\n",
       "</table>\n"
      ],
      "text/plain": [
       "<pandas.io.formats.style.Styler at 0x71a3b6b665d0>"
      ]
     },
     "metadata": {},
     "output_type": "display_data"
    }
   ],
   "source": [
    "from IPython.display import display\n",
    "import joblib\n",
    "from evaluation import evaluate_all\n",
    "\n",
    "def load_models(folder: str, target: str):\n",
    "    models = {}\n",
    "    for file in os.listdir(folder):\n",
    "        if target in file and file.endswith(\".pkl\"):\n",
    "            name = file.replace(f\"{target}_\", \"\").replace(\".pkl\", \"\")\n",
    "            path = os.path.join(folder, file)\n",
    "            models[name] = joblib.load(path)\n",
    "    return models\n",
    "\n",
    "cac_models = load_models(\"../models/\", \"CAC_source_30\")\n",
    "ltv_models = load_models(\"../models/\", \"LTV_180\")\n",
    "\n",
    "# 3. Evaluar modelos\n",
    "print(\"\\nEvaluación de modelos: LTV_180\")\n",
    "ltv_results = evaluate_all(ltv_models, X_val_ltv, y_val_ltv)\n",
    "display(ltv_results.sort_values(\"MAPE\").round(4).style.background_gradient())\n",
    "\n",
    "print(\"\\nEvaluación de modelos: CAC_source_30\")\n",
    "cac_results = evaluate_all(cac_models, X_val_cac, y_val_cac)\n",
    "display(cac_results.sort_values(\"MAPE\").round(4).style.background_gradient())\n"
   ]
  }
 ],
 "metadata": {
  "kernelspec": {
   "display_name": "env",
   "language": "python",
   "name": "python3"
  },
  "language_info": {
   "codemirror_mode": {
    "name": "ipython",
    "version": 3
   },
   "file_extension": ".py",
   "mimetype": "text/x-python",
   "name": "python",
   "nbconvert_exporter": "python",
   "pygments_lexer": "ipython3",
   "version": "3.12.3"
  }
 },
 "nbformat": 4,
 "nbformat_minor": 5
}
