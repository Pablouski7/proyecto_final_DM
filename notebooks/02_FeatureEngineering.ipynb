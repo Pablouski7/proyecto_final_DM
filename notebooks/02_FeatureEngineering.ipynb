{
 "cells": [
  {
   "cell_type": "markdown",
   "id": "0829d2cb",
   "metadata": {},
   "source": [
    "## ¿Qué hace `features.py`?\n",
    "\n",
    "El script `features.py` es el **núcleo de la ingeniería de características** para nuestro modelo de predicción de valor de cliente (LTV), costo de adquisición (CAC) y cohortes. Transforma los datos crudos de visitas, órdenes y costos en un **dataset enriquecido y listo para el modelado**.\n",
    "\n",
    "---\n",
    "\n",
    "### Funciones principales del script\n",
    "\n",
    "---\n",
    "\n",
    "### 1. `get_behavioral_features(visits, orders)`\n",
    "Extrae **características de comportamiento del usuario**:\n",
    "- `n_sessions`: número total de sesiones.\n",
    "- `avg_session_duration`: duración promedio de las sesiones (en minutos).\n",
    "- `session_duration_std`: desviación estándar de duración de sesiones (consistencia).\n",
    "- `n_orders`, `revenue_total`, `avg_order_value`: volumen y valor de compras.\n",
    "- `conversion_delay_days`: días desde la primera visita hasta la primera compra.\n",
    "- `order_span_days`: días entre la primera y la última compra.\n",
    "- `orders_per_session`: eficiencia del usuario (órdenes por sesión).\n",
    "- `avg_days_between_orders`: frecuencia promedio entre pedidos.\n",
    "- `is_churned`: marca si el usuario no regresó después de 30 días.\n",
    "\n",
    "---\n",
    "\n",
    "### 2. `get_temporal_features(visits, orders)`\n",
    "Genera **features temporales enriquecidas**:\n",
    "- `session_month`, `session_day`, `session_quarter`: ubicación en el calendario.\n",
    "- `session_weekday`, `session_hour`: día y hora de primera sesión.\n",
    "- `is_weekend_session`: indica si la sesión ocurrió fin de semana.\n",
    "- `conversion_weekday`: día de la semana de la conversión (compra).\n",
    "\n",
    "---\n",
    "\n",
    "### 3. `get_marketing_features(visits, costs, orders)`\n",
    "Crea **variables derivadas del canal de marketing**:\n",
    "- `device`, `source_id`: canal y medio desde el que llegó el usuario.\n",
    "- `source_conversion_rate`: porcentaje de conversión por fuente (eficacia).\n",
    "- `avg_cost_per_user`: gasto de marketing promedio por usuario por fuente.\n",
    "\n",
    "---\n",
    "\n",
    "### 4. `generate_ltv_180(visits, orders)`\n",
    "Calcula el target **LTV_180**:\n",
    "- Ingresos totales por usuario en los 180 días posteriores a su primera sesión.\n",
    "\n",
    "---\n",
    "\n",
    "### 5. `generate_cac_source_30(visits, orders, costs)`\n",
    "Calcula el target **CAC_source_30**:\n",
    "- Costos asociados al canal del usuario, medidos en los 30 días después de la primera compra.\n",
    "\n",
    "---\n",
    "\n",
    "### 6. `get_cohort_features(visits, ltv, cac, orders)`\n",
    "Agrega **features agregadas por cohorte mensual**:\n",
    "- `ltv_cohort_avg`: promedio de LTV en su cohorte de incorporación.\n",
    "- `cac_cohort_avg`: CAC promedio del mes de incorporación.\n",
    "- `conversion_rate_cohort`: tasa de conversión dentro de la cohorte.\n",
    "\n",
    "Esto permite introducir señales temporales agregadas sin sobreajuste.\n",
    "\n",
    "---\n",
    "\n",
    "### 7. `generate_feature_dataset(visits, orders, costs)`\n",
    "Función principal que:\n",
    "- Llama a todas las funciones anteriores.\n",
    "- Une todas las features y targets por `uid`.\n",
    "- Devuelve un **DataFrame final enriquecido** y guardable como CSV (`final_dataset_with_cohort_features.csv`).\n",
    "\n",
    "---\n",
    "\n",
    "**Resultado:** El script unifica los tres datasets (`visits`, `orders`, `costs`) en uno solo, que contiene información de comportamiento, calendario, marketing, objetivos de negocio y cohortes. Este dataset es **apto para modelado supervisado de LTV, CAC y ROMI**, con un diseño que **minimiza la colinealidad y reduce el riesgo de overfitting**.\n"
   ]
  },
  {
   "cell_type": "code",
   "execution_count": 1,
   "id": "775f2728",
   "metadata": {},
   "outputs": [
    {
     "name": "stdout",
     "output_type": "stream",
     "text": [
      "Generando features()...\n",
      "Dataset generado. Shape final: (228169, 33)\n"
     ]
    }
   ],
   "source": [
    "import os\n",
    "import sys\n",
    "import pandas as pd\n",
    "\n",
    "# Añadir la ruta del archivo features.py al path\n",
    "src_path = os.path.abspath(os.path.join(os.getcwd(), '../src'))\n",
    "if src_path not in sys.path:\n",
    "    sys.path.append(src_path)\n",
    "    \n",
    "from features import generate_feature_dataset\n",
    "\n",
    "# Cargar datos limpios\n",
    "visits = pd.read_csv(\"../data/processed/visits_clean.csv\", parse_dates=['start_ts', 'end_ts'])\n",
    "orders = pd.read_csv(\"../data/processed/orders_clean.csv\", parse_dates=['buy_ts'])\n",
    "costs = pd.read_csv(\"../data/processed/costs_clean.csv\", parse_dates=['dt'])\n",
    "\n",
    "# Generar dataset final\n",
    "final_dataset = generate_feature_dataset(visits, orders, costs)\n",
    "\n",
    "# Guardar en processed/\n",
    "final_dataset.to_csv(\"../data/processed/final_dataset.csv\", index=False)"
   ]
  },
  {
   "cell_type": "markdown",
   "id": "e6ca2890",
   "metadata": {},
   "source": []
  }
 ],
 "metadata": {
  "kernelspec": {
   "display_name": "pset",
   "language": "python",
   "name": "python3"
  },
  "language_info": {
   "codemirror_mode": {
    "name": "ipython",
    "version": 3
   },
   "file_extension": ".py",
   "mimetype": "text/x-python",
   "name": "python",
   "nbconvert_exporter": "python",
   "pygments_lexer": "ipython3",
   "version": "3.12.3"
  }
 },
 "nbformat": 4,
 "nbformat_minor": 5
}
